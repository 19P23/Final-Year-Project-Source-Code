{
 "cells": [
  {
   "cell_type": "code",
   "execution_count": 1,
   "id": "38c232d9",
   "metadata": {},
   "outputs": [],
   "source": [
    "from ap_utils import *"
   ]
  },
  {
   "cell_type": "code",
   "execution_count": 20,
   "id": "2048b0f9",
   "metadata": {},
   "outputs": [],
   "source": [
    "import numpy as np"
   ]
  },
  {
   "cell_type": "code",
   "execution_count": 21,
   "id": "102082f2",
   "metadata": {},
   "outputs": [],
   "source": [
    "from load_and_preprocess_data import load_data, get_label_appended_data"
   ]
  },
  {
   "cell_type": "markdown",
   "id": "691494b2",
   "metadata": {},
   "source": [
    "## Loading the data"
   ]
  },
  {
   "cell_type": "code",
   "execution_count": 22,
   "id": "d5335eaa",
   "metadata": {},
   "outputs": [],
   "source": [
    "path_to_data = '../data/test_data.txt'\n",
    "min_support = 0.3\n",
    "min_confidence = 0.3"
   ]
  },
  {
   "cell_type": "code",
   "execution_count": 23,
   "id": "edbf821d",
   "metadata": {},
   "outputs": [],
   "source": [
    "data = load_data('../data/diabetes.csv')\n",
    "order = [col for col in data.columns[:-1]]\n",
    "transformed_data = get_label_appended_data(data)"
   ]
  },
  {
   "cell_type": "code",
   "execution_count": 24,
   "id": "af0fdea8",
   "metadata": {},
   "outputs": [],
   "source": [
    "transactions = transformed_data.to_numpy()[:100]"
   ]
  },
  {
   "cell_type": "code",
   "execution_count": 27,
   "id": "3eb4b346",
   "metadata": {},
   "outputs": [
    {
     "name": "stdout",
     "output_type": "stream",
     "text": [
      "['Pregnancies', 'Glucose', 'BloodPressure', 'SkinThickness', 'Insulin', 'BMI', 'DiabetesPedigreeFunction', 'Age']\n"
     ]
    }
   ],
   "source": [
    "print(order)"
   ]
  },
  {
   "cell_type": "markdown",
   "id": "960462b8",
   "metadata": {},
   "source": [
    "## Initialization"
   ]
  },
  {
   "cell_type": "code",
   "execution_count": 28,
   "id": "35c55da5",
   "metadata": {},
   "outputs": [],
   "source": [
    "C = {}\n",
    "L = {}\n",
    "itemset_size = 1\n",
    "discarded = {itemset_size: []}\n",
    "items = []\n",
    "for transaction in transactions:\n",
    "    for item in transaction[:-1]:\n",
    "        items.append([item])\n",
    "items.sort(key = lambda x: order.index(x[0].split(',')[1]))\n",
    "C.update({itemset_size: items})"
   ]
  },
  {
   "cell_type": "code",
   "execution_count": 29,
   "id": "83d5c649",
   "metadata": {},
   "outputs": [],
   "source": [
    "def print_table(T, supp_count):\n",
    "    print('Itemset | Frequency')\n",
    "    for k in range(len(T)):\n",
    "        print(f'{T[k]} : {supp_count[k]}')\n",
    "    print()\n",
    "    print()"
   ]
  },
  {
   "cell_type": "code",
   "execution_count": 30,
   "id": "7b849a85",
   "metadata": {},
   "outputs": [],
   "source": [
    "supp_count_L = {}\n",
    "f, sup, new_discarded = get_frequent(C[itemset_size], transactions, min_support, discarded)\n",
    "discarded.update({itemset_size: new_discarded})\n",
    "L.update({itemset_size: f})\n",
    "supp_count_L.update({itemset_size: sup})"
   ]
  },
  {
   "cell_type": "code",
   "execution_count": 31,
   "id": "6f0ff2e9",
   "metadata": {},
   "outputs": [
    {
     "name": "stdout",
     "output_type": "stream",
     "text": [
      "Itemset | Frequency\n",
      "['0,SkinThickness'] : 32\n",
      "['0,SkinThickness'] : 32\n",
      "['0,SkinThickness'] : 32\n",
      "['0,SkinThickness'] : 32\n",
      "['0,SkinThickness'] : 32\n",
      "['0,SkinThickness'] : 32\n",
      "['0,SkinThickness'] : 32\n",
      "['0,SkinThickness'] : 32\n",
      "['0,SkinThickness'] : 32\n",
      "['0,SkinThickness'] : 32\n",
      "['0,SkinThickness'] : 32\n",
      "['0,SkinThickness'] : 32\n",
      "['0,SkinThickness'] : 32\n",
      "['0,SkinThickness'] : 32\n",
      "['0,SkinThickness'] : 32\n",
      "['0,SkinThickness'] : 32\n",
      "['0,SkinThickness'] : 32\n",
      "['0,SkinThickness'] : 32\n",
      "['0,SkinThickness'] : 32\n",
      "['0,SkinThickness'] : 32\n",
      "['0,SkinThickness'] : 32\n",
      "['0,SkinThickness'] : 32\n",
      "['0,SkinThickness'] : 32\n",
      "['0,SkinThickness'] : 32\n",
      "['0,SkinThickness'] : 32\n",
      "['0,SkinThickness'] : 32\n",
      "['0,SkinThickness'] : 32\n",
      "['0,SkinThickness'] : 32\n",
      "['0,SkinThickness'] : 32\n",
      "['0,SkinThickness'] : 32\n",
      "['0,SkinThickness'] : 32\n",
      "['0,SkinThickness'] : 32\n",
      "['0,Insulin'] : 55\n",
      "['0,Insulin'] : 55\n",
      "['0,Insulin'] : 55\n",
      "['0,Insulin'] : 55\n",
      "['0,Insulin'] : 55\n",
      "['0,Insulin'] : 55\n",
      "['0,Insulin'] : 55\n",
      "['0,Insulin'] : 55\n",
      "['0,Insulin'] : 55\n",
      "['0,Insulin'] : 55\n",
      "['0,Insulin'] : 55\n",
      "['0,Insulin'] : 55\n",
      "['0,Insulin'] : 55\n",
      "['0,Insulin'] : 55\n",
      "['0,Insulin'] : 55\n",
      "['0,Insulin'] : 55\n",
      "['0,Insulin'] : 55\n",
      "['0,Insulin'] : 55\n",
      "['0,Insulin'] : 55\n",
      "['0,Insulin'] : 55\n",
      "['0,Insulin'] : 55\n",
      "['0,Insulin'] : 55\n",
      "['0,Insulin'] : 55\n",
      "['0,Insulin'] : 55\n",
      "['0,Insulin'] : 55\n",
      "['0,Insulin'] : 55\n",
      "['0,Insulin'] : 55\n",
      "['0,Insulin'] : 55\n",
      "['0,Insulin'] : 55\n",
      "['0,Insulin'] : 55\n",
      "['0,Insulin'] : 55\n",
      "['0,Insulin'] : 55\n",
      "['0,Insulin'] : 55\n",
      "['0,Insulin'] : 55\n",
      "['0,Insulin'] : 55\n",
      "['0,Insulin'] : 55\n",
      "['0,Insulin'] : 55\n",
      "['0,Insulin'] : 55\n",
      "['0,Insulin'] : 55\n",
      "['0,Insulin'] : 55\n",
      "['0,Insulin'] : 55\n",
      "['0,Insulin'] : 55\n",
      "['0,Insulin'] : 55\n",
      "['0,Insulin'] : 55\n",
      "['0,Insulin'] : 55\n",
      "['0,Insulin'] : 55\n",
      "['0,Insulin'] : 55\n",
      "['0,Insulin'] : 55\n",
      "['0,Insulin'] : 55\n",
      "['0,Insulin'] : 55\n",
      "['0,Insulin'] : 55\n",
      "['0,Insulin'] : 55\n",
      "['0,Insulin'] : 55\n",
      "['0,Insulin'] : 55\n",
      "['0,Insulin'] : 55\n",
      "\n",
      "\n"
     ]
    }
   ],
   "source": [
    "print_table(L[1], supp_count_L[1])"
   ]
  },
  {
   "cell_type": "code",
   "execution_count": 32,
   "id": "9eb8df48",
   "metadata": {},
   "outputs": [
    {
     "name": "stdout",
     "output_type": "stream",
     "text": [
      "Table C2: \n",
      "\n",
      "1760\n",
      "Table L2: \n",
      "\n",
      "1760\n",
      "Table C3: \n",
      "\n",
      "0\n"
     ]
    }
   ],
   "source": [
    "k = itemset_size + 1\n",
    "convergence = False\n",
    "while convergence == False:\n",
    "    C.update({k: join_set_itemsets(L[k - 1], order)})\n",
    "    print(f'Table C{k}: \\n')\n",
    "    print(len(C[k]))\n",
    "#     print_table(C[k], [count_occurences(it, transactions) for it in C[k]])\n",
    "    f, sup, new_discarded = get_frequent(C[k], transactions, min_support, discarded)\n",
    "    discarded.update({k: new_discarded})\n",
    "    L.update({k: f})\n",
    "    supp_count_L.update({k: sup})\n",
    "    if len(L[k]) == 0:\n",
    "        convergence = True\n",
    "    else:\n",
    "        print(f'Table L{k}: \\n')\n",
    "        print(len(L[k]))\n",
    "#         print_table(L[k], supp_count_L[k])\n",
    "    k += 1"
   ]
  },
  {
   "cell_type": "markdown",
   "id": "025db7f9",
   "metadata": {},
   "source": [
    "## Generate Rules"
   ]
  },
  {
   "cell_type": "code",
   "execution_count": null,
   "id": "d46de648",
   "metadata": {},
   "outputs": [],
   "source": [
    "from itertools import combinations, chain\n",
    "def powerset(s):\n",
    "    return list(chain.from_iterable(combinations(s, r) for r in range(1, len(s) + 1)))"
   ]
  },
  {
   "cell_type": "code",
   "execution_count": null,
   "id": "b5bf2b00",
   "metadata": {},
   "outputs": [],
   "source": [
    "def write_rules(X, X_S, S, conf, supp, lift, num_transactions):\n",
    "    out_rules = ''\n",
    "    out_rules += f'Freq. Itemset: {X}\\n'\n",
    "    out_rules += f'\\tRule: {S} -> {X_S}\\n'\n",
    "    out_rules += f'\\tConf: {0:2.3f} '.format(conf)\n",
    "    out_rules += f'\\tSupp: {0:2.3f} '.format(supp/num_trans)\n",
    "    out_rules += f'\\tLift: {0:2.3f}\\n'.format(lift)\n",
    "    return out_rules"
   ]
  },
  {
   "cell_type": "code",
   "execution_count": null,
   "id": "212278fa",
   "metadata": {},
   "outputs": [],
   "source": [
    "assoc_rules_str = ''\n",
    "num_trans = len(transactions)\n",
    "for i in range(1, len(L)):\n",
    "    for j in range(len(L[i])):\n",
    "        s = list(powerset(set(L[i][j])))\n",
    "        s.pop()\n",
    "        for z in s:\n",
    "            S = set(z)\n",
    "            X = set(L[i][j])\n",
    "            X_S = set(X - S)\n",
    "            sup_x = count_occurences(X, transactions)\n",
    "            sup_x_s = count_occurences(X_S, transactions)\n",
    "            conf = sup_x/count_occurences(S, transactions)\n",
    "            lift = sup_x/(sup_x_s/num_trans)\n",
    "            if conf >= min_confidence and sup_x >= min_support:\n",
    "                assoc_rules_str += write_rules(X, X_S, S, conf, sup_x, lift, num_trans)"
   ]
  },
  {
   "cell_type": "code",
   "execution_count": null,
   "id": "5820237d",
   "metadata": {},
   "outputs": [],
   "source": [
    "print(assoc_rules_str)"
   ]
  },
  {
   "cell_type": "code",
   "execution_count": null,
   "id": "5c66e2b4",
   "metadata": {},
   "outputs": [],
   "source": []
  }
 ],
 "metadata": {
  "kernelspec": {
   "display_name": "Python 3 (ipykernel)",
   "language": "python",
   "name": "python3"
  },
  "language_info": {
   "codemirror_mode": {
    "name": "ipython",
    "version": 3
   },
   "file_extension": ".py",
   "mimetype": "text/x-python",
   "name": "python",
   "nbconvert_exporter": "python",
   "pygments_lexer": "ipython3",
   "version": "3.10.1"
  }
 },
 "nbformat": 4,
 "nbformat_minor": 5
}
