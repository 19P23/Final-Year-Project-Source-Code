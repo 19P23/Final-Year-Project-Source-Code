{
 "cells": [
  {
   "cell_type": "code",
   "execution_count": 1,
   "id": "2ea799de",
   "metadata": {},
   "outputs": [],
   "source": [
    "import pandas as pd\n",
    "import numpy as np"
   ]
  },
  {
   "cell_type": "code",
   "execution_count": 2,
   "id": "c0b5d686",
   "metadata": {},
   "outputs": [],
   "source": [
    "dict1 = {\n",
    "    'name': ['A', 'B', 'C', 'D'],\n",
    "    'marks': [91, 80, 82, 88],\n",
    "    'city': ['Patna', 'Lucknow', 'Kanpur', 'Ranchi']\n",
    "}"
   ]
  },
  {
   "cell_type": "code",
   "execution_count": 3,
   "id": "fdcb5a1d",
   "metadata": {},
   "outputs": [],
   "source": [
    "df = pd.DataFrame(dict1)"
   ]
  },
  {
   "cell_type": "code",
   "execution_count": 4,
   "id": "969f739c",
   "metadata": {},
   "outputs": [
    {
     "data": {
      "text/html": [
       "<div>\n",
       "<style scoped>\n",
       "    .dataframe tbody tr th:only-of-type {\n",
       "        vertical-align: middle;\n",
       "    }\n",
       "\n",
       "    .dataframe tbody tr th {\n",
       "        vertical-align: top;\n",
       "    }\n",
       "\n",
       "    .dataframe thead th {\n",
       "        text-align: right;\n",
       "    }\n",
       "</style>\n",
       "<table border=\"1\" class=\"dataframe\">\n",
       "  <thead>\n",
       "    <tr style=\"text-align: right;\">\n",
       "      <th></th>\n",
       "      <th>name</th>\n",
       "      <th>marks</th>\n",
       "      <th>city</th>\n",
       "    </tr>\n",
       "  </thead>\n",
       "  <tbody>\n",
       "    <tr>\n",
       "      <th>0</th>\n",
       "      <td>A</td>\n",
       "      <td>91</td>\n",
       "      <td>Patna</td>\n",
       "    </tr>\n",
       "    <tr>\n",
       "      <th>1</th>\n",
       "      <td>B</td>\n",
       "      <td>80</td>\n",
       "      <td>Lucknow</td>\n",
       "    </tr>\n",
       "    <tr>\n",
       "      <th>2</th>\n",
       "      <td>C</td>\n",
       "      <td>82</td>\n",
       "      <td>Kanpur</td>\n",
       "    </tr>\n",
       "    <tr>\n",
       "      <th>3</th>\n",
       "      <td>D</td>\n",
       "      <td>88</td>\n",
       "      <td>Ranchi</td>\n",
       "    </tr>\n",
       "  </tbody>\n",
       "</table>\n",
       "</div>"
      ],
      "text/plain": [
       "  name  marks     city\n",
       "0    A     91    Patna\n",
       "1    B     80  Lucknow\n",
       "2    C     82   Kanpur\n",
       "3    D     88   Ranchi"
      ]
     },
     "execution_count": 4,
     "metadata": {},
     "output_type": "execute_result"
    }
   ],
   "source": [
    "df"
   ]
  },
  {
   "cell_type": "code",
   "execution_count": 5,
   "id": "a03b040b",
   "metadata": {},
   "outputs": [],
   "source": [
    "df.to_csv('../data/sample.csv')"
   ]
  },
  {
   "cell_type": "code",
   "execution_count": 6,
   "id": "cd9f91b4",
   "metadata": {},
   "outputs": [],
   "source": [
    "df.to_csv('../data/sample_index_false.csv', index = False)"
   ]
  },
  {
   "cell_type": "code",
   "execution_count": 7,
   "id": "37ccf4c6",
   "metadata": {},
   "outputs": [
    {
     "data": {
      "text/html": [
       "<div>\n",
       "<style scoped>\n",
       "    .dataframe tbody tr th:only-of-type {\n",
       "        vertical-align: middle;\n",
       "    }\n",
       "\n",
       "    .dataframe tbody tr th {\n",
       "        vertical-align: top;\n",
       "    }\n",
       "\n",
       "    .dataframe thead th {\n",
       "        text-align: right;\n",
       "    }\n",
       "</style>\n",
       "<table border=\"1\" class=\"dataframe\">\n",
       "  <thead>\n",
       "    <tr style=\"text-align: right;\">\n",
       "      <th></th>\n",
       "      <th>marks</th>\n",
       "    </tr>\n",
       "  </thead>\n",
       "  <tbody>\n",
       "    <tr>\n",
       "      <th>count</th>\n",
       "      <td>4.000000</td>\n",
       "    </tr>\n",
       "    <tr>\n",
       "      <th>mean</th>\n",
       "      <td>85.250000</td>\n",
       "    </tr>\n",
       "    <tr>\n",
       "      <th>std</th>\n",
       "      <td>5.123475</td>\n",
       "    </tr>\n",
       "    <tr>\n",
       "      <th>min</th>\n",
       "      <td>80.000000</td>\n",
       "    </tr>\n",
       "    <tr>\n",
       "      <th>25%</th>\n",
       "      <td>81.500000</td>\n",
       "    </tr>\n",
       "    <tr>\n",
       "      <th>50%</th>\n",
       "      <td>85.000000</td>\n",
       "    </tr>\n",
       "    <tr>\n",
       "      <th>75%</th>\n",
       "      <td>88.750000</td>\n",
       "    </tr>\n",
       "    <tr>\n",
       "      <th>max</th>\n",
       "      <td>91.000000</td>\n",
       "    </tr>\n",
       "  </tbody>\n",
       "</table>\n",
       "</div>"
      ],
      "text/plain": [
       "           marks\n",
       "count   4.000000\n",
       "mean   85.250000\n",
       "std     5.123475\n",
       "min    80.000000\n",
       "25%    81.500000\n",
       "50%    85.000000\n",
       "75%    88.750000\n",
       "max    91.000000"
      ]
     },
     "execution_count": 7,
     "metadata": {},
     "output_type": "execute_result"
    }
   ],
   "source": [
    "df.describe()"
   ]
  },
  {
   "cell_type": "code",
   "execution_count": 8,
   "id": "6e55996b",
   "metadata": {},
   "outputs": [
    {
     "name": "stdout",
     "output_type": "stream",
     "text": [
      "[['A' 91 'Patna']\n",
      " ['B' 80 'Lucknow']\n",
      " ['C' 82 'Kanpur']\n",
      " ['D' 88 'Ranchi']]\n"
     ]
    }
   ],
   "source": [
    "print(df.values)"
   ]
  },
  {
   "cell_type": "code",
   "execution_count": 10,
   "id": "f0019b81",
   "metadata": {},
   "outputs": [
    {
     "data": {
      "text/plain": [
       "pandas.core.series.Series"
      ]
     },
     "execution_count": 10,
     "metadata": {},
     "output_type": "execute_result"
    }
   ],
   "source": [
    "type(pd.Series(np.random.rand(334)))"
   ]
  },
  {
   "cell_type": "code",
   "execution_count": 16,
   "id": "a5a6eba7",
   "metadata": {},
   "outputs": [],
   "source": [
    "newDf = pd.DataFrame(np.random.rand(300, 5))"
   ]
  },
  {
   "cell_type": "code",
   "execution_count": 17,
   "id": "35be1460",
   "metadata": {},
   "outputs": [
    {
     "data": {
      "text/html": [
       "<div>\n",
       "<style scoped>\n",
       "    .dataframe tbody tr th:only-of-type {\n",
       "        vertical-align: middle;\n",
       "    }\n",
       "\n",
       "    .dataframe tbody tr th {\n",
       "        vertical-align: top;\n",
       "    }\n",
       "\n",
       "    .dataframe thead th {\n",
       "        text-align: right;\n",
       "    }\n",
       "</style>\n",
       "<table border=\"1\" class=\"dataframe\">\n",
       "  <thead>\n",
       "    <tr style=\"text-align: right;\">\n",
       "      <th></th>\n",
       "      <th>0</th>\n",
       "      <th>1</th>\n",
       "      <th>2</th>\n",
       "      <th>3</th>\n",
       "      <th>4</th>\n",
       "    </tr>\n",
       "  </thead>\n",
       "  <tbody>\n",
       "    <tr>\n",
       "      <th>0</th>\n",
       "      <td>0.398411</td>\n",
       "      <td>0.977278</td>\n",
       "      <td>0.101693</td>\n",
       "      <td>0.736245</td>\n",
       "      <td>0.671900</td>\n",
       "    </tr>\n",
       "    <tr>\n",
       "      <th>1</th>\n",
       "      <td>0.905124</td>\n",
       "      <td>0.822610</td>\n",
       "      <td>0.125654</td>\n",
       "      <td>0.896056</td>\n",
       "      <td>0.825346</td>\n",
       "    </tr>\n",
       "    <tr>\n",
       "      <th>2</th>\n",
       "      <td>0.973992</td>\n",
       "      <td>0.948025</td>\n",
       "      <td>0.394041</td>\n",
       "      <td>0.233391</td>\n",
       "      <td>0.112078</td>\n",
       "    </tr>\n",
       "    <tr>\n",
       "      <th>3</th>\n",
       "      <td>0.982307</td>\n",
       "      <td>0.451967</td>\n",
       "      <td>0.197520</td>\n",
       "      <td>0.372739</td>\n",
       "      <td>0.482113</td>\n",
       "    </tr>\n",
       "    <tr>\n",
       "      <th>4</th>\n",
       "      <td>0.313504</td>\n",
       "      <td>0.824741</td>\n",
       "      <td>0.449164</td>\n",
       "      <td>0.485672</td>\n",
       "      <td>0.360895</td>\n",
       "    </tr>\n",
       "    <tr>\n",
       "      <th>...</th>\n",
       "      <td>...</td>\n",
       "      <td>...</td>\n",
       "      <td>...</td>\n",
       "      <td>...</td>\n",
       "      <td>...</td>\n",
       "    </tr>\n",
       "    <tr>\n",
       "      <th>295</th>\n",
       "      <td>0.852805</td>\n",
       "      <td>0.625112</td>\n",
       "      <td>0.794064</td>\n",
       "      <td>0.563318</td>\n",
       "      <td>0.062231</td>\n",
       "    </tr>\n",
       "    <tr>\n",
       "      <th>296</th>\n",
       "      <td>0.697809</td>\n",
       "      <td>0.975995</td>\n",
       "      <td>0.291412</td>\n",
       "      <td>0.993697</td>\n",
       "      <td>0.117698</td>\n",
       "    </tr>\n",
       "    <tr>\n",
       "      <th>297</th>\n",
       "      <td>0.420169</td>\n",
       "      <td>0.781884</td>\n",
       "      <td>0.926229</td>\n",
       "      <td>0.889806</td>\n",
       "      <td>0.644638</td>\n",
       "    </tr>\n",
       "    <tr>\n",
       "      <th>298</th>\n",
       "      <td>0.616362</td>\n",
       "      <td>0.537877</td>\n",
       "      <td>0.295183</td>\n",
       "      <td>0.534217</td>\n",
       "      <td>0.740966</td>\n",
       "    </tr>\n",
       "    <tr>\n",
       "      <th>299</th>\n",
       "      <td>0.876060</td>\n",
       "      <td>0.583977</td>\n",
       "      <td>0.989881</td>\n",
       "      <td>0.541856</td>\n",
       "      <td>0.506447</td>\n",
       "    </tr>\n",
       "  </tbody>\n",
       "</table>\n",
       "<p>300 rows × 5 columns</p>\n",
       "</div>"
      ],
      "text/plain": [
       "            0         1         2         3         4\n",
       "0    0.398411  0.977278  0.101693  0.736245  0.671900\n",
       "1    0.905124  0.822610  0.125654  0.896056  0.825346\n",
       "2    0.973992  0.948025  0.394041  0.233391  0.112078\n",
       "3    0.982307  0.451967  0.197520  0.372739  0.482113\n",
       "4    0.313504  0.824741  0.449164  0.485672  0.360895\n",
       "..        ...       ...       ...       ...       ...\n",
       "295  0.852805  0.625112  0.794064  0.563318  0.062231\n",
       "296  0.697809  0.975995  0.291412  0.993697  0.117698\n",
       "297  0.420169  0.781884  0.926229  0.889806  0.644638\n",
       "298  0.616362  0.537877  0.295183  0.534217  0.740966\n",
       "299  0.876060  0.583977  0.989881  0.541856  0.506447\n",
       "\n",
       "[300 rows x 5 columns]"
      ]
     },
     "execution_count": 17,
     "metadata": {},
     "output_type": "execute_result"
    }
   ],
   "source": [
    "newDf"
   ]
  },
  {
   "cell_type": "code",
   "execution_count": 18,
   "id": "931fda69",
   "metadata": {},
   "outputs": [
    {
     "data": {
      "text/plain": [
       "Index(['name', 'marks', 'city'], dtype='object')"
      ]
     },
     "execution_count": 18,
     "metadata": {},
     "output_type": "execute_result"
    }
   ],
   "source": [
    "df.columns"
   ]
  },
  {
   "cell_type": "code",
   "execution_count": 19,
   "id": "992dfc33",
   "metadata": {},
   "outputs": [
    {
     "data": {
      "text/plain": [
       "RangeIndex(start=0, stop=5, step=1)"
      ]
     },
     "execution_count": 19,
     "metadata": {},
     "output_type": "execute_result"
    }
   ],
   "source": [
    "newDf.columns"
   ]
  },
  {
   "cell_type": "code",
   "execution_count": 20,
   "id": "73e5cf2f",
   "metadata": {},
   "outputs": [],
   "source": [
    "newDf[0][0] = 'hello'"
   ]
  },
  {
   "cell_type": "code",
   "execution_count": 21,
   "id": "f7cb64c1",
   "metadata": {},
   "outputs": [
    {
     "data": {
      "text/html": [
       "<div>\n",
       "<style scoped>\n",
       "    .dataframe tbody tr th:only-of-type {\n",
       "        vertical-align: middle;\n",
       "    }\n",
       "\n",
       "    .dataframe tbody tr th {\n",
       "        vertical-align: top;\n",
       "    }\n",
       "\n",
       "    .dataframe thead th {\n",
       "        text-align: right;\n",
       "    }\n",
       "</style>\n",
       "<table border=\"1\" class=\"dataframe\">\n",
       "  <thead>\n",
       "    <tr style=\"text-align: right;\">\n",
       "      <th></th>\n",
       "      <th>0</th>\n",
       "      <th>1</th>\n",
       "      <th>2</th>\n",
       "      <th>3</th>\n",
       "      <th>4</th>\n",
       "    </tr>\n",
       "  </thead>\n",
       "  <tbody>\n",
       "    <tr>\n",
       "      <th>0</th>\n",
       "      <td>hello</td>\n",
       "      <td>0.977278</td>\n",
       "      <td>0.101693</td>\n",
       "      <td>0.736245</td>\n",
       "      <td>0.671900</td>\n",
       "    </tr>\n",
       "    <tr>\n",
       "      <th>1</th>\n",
       "      <td>0.905124</td>\n",
       "      <td>0.822610</td>\n",
       "      <td>0.125654</td>\n",
       "      <td>0.896056</td>\n",
       "      <td>0.825346</td>\n",
       "    </tr>\n",
       "    <tr>\n",
       "      <th>2</th>\n",
       "      <td>0.973992</td>\n",
       "      <td>0.948025</td>\n",
       "      <td>0.394041</td>\n",
       "      <td>0.233391</td>\n",
       "      <td>0.112078</td>\n",
       "    </tr>\n",
       "    <tr>\n",
       "      <th>3</th>\n",
       "      <td>0.982307</td>\n",
       "      <td>0.451967</td>\n",
       "      <td>0.197520</td>\n",
       "      <td>0.372739</td>\n",
       "      <td>0.482113</td>\n",
       "    </tr>\n",
       "    <tr>\n",
       "      <th>4</th>\n",
       "      <td>0.313504</td>\n",
       "      <td>0.824741</td>\n",
       "      <td>0.449164</td>\n",
       "      <td>0.485672</td>\n",
       "      <td>0.360895</td>\n",
       "    </tr>\n",
       "    <tr>\n",
       "      <th>...</th>\n",
       "      <td>...</td>\n",
       "      <td>...</td>\n",
       "      <td>...</td>\n",
       "      <td>...</td>\n",
       "      <td>...</td>\n",
       "    </tr>\n",
       "    <tr>\n",
       "      <th>295</th>\n",
       "      <td>0.852805</td>\n",
       "      <td>0.625112</td>\n",
       "      <td>0.794064</td>\n",
       "      <td>0.563318</td>\n",
       "      <td>0.062231</td>\n",
       "    </tr>\n",
       "    <tr>\n",
       "      <th>296</th>\n",
       "      <td>0.697809</td>\n",
       "      <td>0.975995</td>\n",
       "      <td>0.291412</td>\n",
       "      <td>0.993697</td>\n",
       "      <td>0.117698</td>\n",
       "    </tr>\n",
       "    <tr>\n",
       "      <th>297</th>\n",
       "      <td>0.420169</td>\n",
       "      <td>0.781884</td>\n",
       "      <td>0.926229</td>\n",
       "      <td>0.889806</td>\n",
       "      <td>0.644638</td>\n",
       "    </tr>\n",
       "    <tr>\n",
       "      <th>298</th>\n",
       "      <td>0.616362</td>\n",
       "      <td>0.537877</td>\n",
       "      <td>0.295183</td>\n",
       "      <td>0.534217</td>\n",
       "      <td>0.740966</td>\n",
       "    </tr>\n",
       "    <tr>\n",
       "      <th>299</th>\n",
       "      <td>0.87606</td>\n",
       "      <td>0.583977</td>\n",
       "      <td>0.989881</td>\n",
       "      <td>0.541856</td>\n",
       "      <td>0.506447</td>\n",
       "    </tr>\n",
       "  </tbody>\n",
       "</table>\n",
       "<p>300 rows × 5 columns</p>\n",
       "</div>"
      ],
      "text/plain": [
       "            0         1         2         3         4\n",
       "0       hello  0.977278  0.101693  0.736245  0.671900\n",
       "1    0.905124  0.822610  0.125654  0.896056  0.825346\n",
       "2    0.973992  0.948025  0.394041  0.233391  0.112078\n",
       "3    0.982307  0.451967  0.197520  0.372739  0.482113\n",
       "4    0.313504  0.824741  0.449164  0.485672  0.360895\n",
       "..        ...       ...       ...       ...       ...\n",
       "295  0.852805  0.625112  0.794064  0.563318  0.062231\n",
       "296  0.697809  0.975995  0.291412  0.993697  0.117698\n",
       "297  0.420169  0.781884  0.926229  0.889806  0.644638\n",
       "298  0.616362  0.537877  0.295183  0.534217  0.740966\n",
       "299   0.87606  0.583977  0.989881  0.541856  0.506447\n",
       "\n",
       "[300 rows x 5 columns]"
      ]
     },
     "execution_count": 21,
     "metadata": {},
     "output_type": "execute_result"
    }
   ],
   "source": [
    "newDf"
   ]
  },
  {
   "cell_type": "code",
   "execution_count": 26,
   "id": "45fd415c",
   "metadata": {},
   "outputs": [
    {
     "data": {
      "text/plain": [
       "array([[1.4, 0.9772776251276335, 0.10169279395602215, 0.736244888986524,\n",
       "        0.6718998452723983],\n",
       "       [0.9051243286978343, 0.822609593844642, 0.12565377016737844,\n",
       "        0.8960563397065668, 0.8253460613930339],\n",
       "       [0.9739919135242723, 0.9480250149571859, 0.39404105801522893,\n",
       "        0.2333914557170872, 0.11207810269533491],\n",
       "       ...,\n",
       "       [0.420168917043122, 0.7818835086423345, 0.9262293238557304,\n",
       "        0.889806328484249, 0.6446380242276072],\n",
       "       [0.616362307157511, 0.5378774250425828, 0.2951828663536329,\n",
       "        0.5342171922485576, 0.7409655529014874],\n",
       "       [0.8760601727398574, 0.5839767081966187, 0.9898811763594878,\n",
       "        0.5418562453084309, 0.5064472050639499]], dtype=object)"
      ]
     },
     "execution_count": 26,
     "metadata": {},
     "output_type": "execute_result"
    }
   ],
   "source": [
    "newDf.to_numpy()"
   ]
  },
  {
   "cell_type": "code",
   "execution_count": 25,
   "id": "194c809a",
   "metadata": {},
   "outputs": [
    {
     "data": {
      "text/plain": [
       "0     object\n",
       "1    float64\n",
       "2    float64\n",
       "3    float64\n",
       "4    float64\n",
       "dtype: object"
      ]
     },
     "execution_count": 25,
     "metadata": {},
     "output_type": "execute_result"
    }
   ],
   "source": [
    "newDf.dtypes"
   ]
  },
  {
   "cell_type": "code",
   "execution_count": 24,
   "id": "8ccc946d",
   "metadata": {},
   "outputs": [],
   "source": [
    "newDf[0][0] = 1.4"
   ]
  },
  {
   "cell_type": "code",
   "execution_count": 32,
   "id": "7e6576b7",
   "metadata": {},
   "outputs": [
    {
     "data": {
      "text/html": [
       "<div>\n",
       "<style scoped>\n",
       "    .dataframe tbody tr th:only-of-type {\n",
       "        vertical-align: middle;\n",
       "    }\n",
       "\n",
       "    .dataframe tbody tr th {\n",
       "        vertical-align: top;\n",
       "    }\n",
       "\n",
       "    .dataframe thead th {\n",
       "        text-align: right;\n",
       "    }\n",
       "</style>\n",
       "<table border=\"1\" class=\"dataframe\">\n",
       "  <thead>\n",
       "    <tr style=\"text-align: right;\">\n",
       "      <th></th>\n",
       "      <th>4</th>\n",
       "      <th>3</th>\n",
       "      <th>2</th>\n",
       "      <th>1</th>\n",
       "      <th>0</th>\n",
       "    </tr>\n",
       "  </thead>\n",
       "  <tbody>\n",
       "    <tr>\n",
       "      <th>0</th>\n",
       "      <td>0.671900</td>\n",
       "      <td>0.736245</td>\n",
       "      <td>0.101693</td>\n",
       "      <td>0.977278</td>\n",
       "      <td>1.4</td>\n",
       "    </tr>\n",
       "    <tr>\n",
       "      <th>1</th>\n",
       "      <td>0.825346</td>\n",
       "      <td>0.896056</td>\n",
       "      <td>0.125654</td>\n",
       "      <td>0.822610</td>\n",
       "      <td>0.905124</td>\n",
       "    </tr>\n",
       "    <tr>\n",
       "      <th>2</th>\n",
       "      <td>0.112078</td>\n",
       "      <td>0.233391</td>\n",
       "      <td>0.394041</td>\n",
       "      <td>0.948025</td>\n",
       "      <td>0.973992</td>\n",
       "    </tr>\n",
       "    <tr>\n",
       "      <th>3</th>\n",
       "      <td>0.482113</td>\n",
       "      <td>0.372739</td>\n",
       "      <td>0.197520</td>\n",
       "      <td>0.451967</td>\n",
       "      <td>0.982307</td>\n",
       "    </tr>\n",
       "    <tr>\n",
       "      <th>4</th>\n",
       "      <td>0.360895</td>\n",
       "      <td>0.485672</td>\n",
       "      <td>0.449164</td>\n",
       "      <td>0.824741</td>\n",
       "      <td>0.313504</td>\n",
       "    </tr>\n",
       "    <tr>\n",
       "      <th>...</th>\n",
       "      <td>...</td>\n",
       "      <td>...</td>\n",
       "      <td>...</td>\n",
       "      <td>...</td>\n",
       "      <td>...</td>\n",
       "    </tr>\n",
       "    <tr>\n",
       "      <th>295</th>\n",
       "      <td>0.062231</td>\n",
       "      <td>0.563318</td>\n",
       "      <td>0.794064</td>\n",
       "      <td>0.625112</td>\n",
       "      <td>0.852805</td>\n",
       "    </tr>\n",
       "    <tr>\n",
       "      <th>296</th>\n",
       "      <td>0.117698</td>\n",
       "      <td>0.993697</td>\n",
       "      <td>0.291412</td>\n",
       "      <td>0.975995</td>\n",
       "      <td>0.697809</td>\n",
       "    </tr>\n",
       "    <tr>\n",
       "      <th>297</th>\n",
       "      <td>0.644638</td>\n",
       "      <td>0.889806</td>\n",
       "      <td>0.926229</td>\n",
       "      <td>0.781884</td>\n",
       "      <td>0.420169</td>\n",
       "    </tr>\n",
       "    <tr>\n",
       "      <th>298</th>\n",
       "      <td>0.740966</td>\n",
       "      <td>0.534217</td>\n",
       "      <td>0.295183</td>\n",
       "      <td>0.537877</td>\n",
       "      <td>0.616362</td>\n",
       "    </tr>\n",
       "    <tr>\n",
       "      <th>299</th>\n",
       "      <td>0.506447</td>\n",
       "      <td>0.541856</td>\n",
       "      <td>0.989881</td>\n",
       "      <td>0.583977</td>\n",
       "      <td>0.87606</td>\n",
       "    </tr>\n",
       "  </tbody>\n",
       "</table>\n",
       "<p>300 rows × 5 columns</p>\n",
       "</div>"
      ],
      "text/plain": [
       "            4         3         2         1         0\n",
       "0    0.671900  0.736245  0.101693  0.977278       1.4\n",
       "1    0.825346  0.896056  0.125654  0.822610  0.905124\n",
       "2    0.112078  0.233391  0.394041  0.948025  0.973992\n",
       "3    0.482113  0.372739  0.197520  0.451967  0.982307\n",
       "4    0.360895  0.485672  0.449164  0.824741  0.313504\n",
       "..        ...       ...       ...       ...       ...\n",
       "295  0.062231  0.563318  0.794064  0.625112  0.852805\n",
       "296  0.117698  0.993697  0.291412  0.975995  0.697809\n",
       "297  0.644638  0.889806  0.926229  0.781884  0.420169\n",
       "298  0.740966  0.534217  0.295183  0.537877  0.616362\n",
       "299  0.506447  0.541856  0.989881  0.583977   0.87606\n",
       "\n",
       "[300 rows x 5 columns]"
      ]
     },
     "execution_count": 32,
     "metadata": {},
     "output_type": "execute_result"
    }
   ],
   "source": [
    "newDf.sort_index(axis = 1, ascending = False)"
   ]
  },
  {
   "cell_type": "code",
   "execution_count": 37,
   "id": "15ce3eb7",
   "metadata": {},
   "outputs": [
    {
     "data": {
      "text/html": [
       "<div>\n",
       "<style scoped>\n",
       "    .dataframe tbody tr th:only-of-type {\n",
       "        vertical-align: middle;\n",
       "    }\n",
       "\n",
       "    .dataframe tbody tr th {\n",
       "        vertical-align: top;\n",
       "    }\n",
       "\n",
       "    .dataframe thead th {\n",
       "        text-align: right;\n",
       "    }\n",
       "</style>\n",
       "<table border=\"1\" class=\"dataframe\">\n",
       "  <thead>\n",
       "    <tr style=\"text-align: right;\">\n",
       "      <th></th>\n",
       "      <th>0</th>\n",
       "      <th>3</th>\n",
       "      <th>4</th>\n",
       "      <th>1</th>\n",
       "      <th>2</th>\n",
       "    </tr>\n",
       "  </thead>\n",
       "  <tbody>\n",
       "    <tr>\n",
       "      <th>0</th>\n",
       "      <td>1.4</td>\n",
       "      <td>0.736245</td>\n",
       "      <td>0.671900</td>\n",
       "      <td>0.977278</td>\n",
       "      <td>0.101693</td>\n",
       "    </tr>\n",
       "    <tr>\n",
       "      <th>1</th>\n",
       "      <td>0.905124</td>\n",
       "      <td>0.896056</td>\n",
       "      <td>0.825346</td>\n",
       "      <td>0.822610</td>\n",
       "      <td>0.125654</td>\n",
       "    </tr>\n",
       "    <tr>\n",
       "      <th>2</th>\n",
       "      <td>0.973992</td>\n",
       "      <td>0.233391</td>\n",
       "      <td>0.112078</td>\n",
       "      <td>0.948025</td>\n",
       "      <td>0.394041</td>\n",
       "    </tr>\n",
       "    <tr>\n",
       "      <th>3</th>\n",
       "      <td>0.982307</td>\n",
       "      <td>0.372739</td>\n",
       "      <td>0.482113</td>\n",
       "      <td>0.451967</td>\n",
       "      <td>0.197520</td>\n",
       "    </tr>\n",
       "    <tr>\n",
       "      <th>4</th>\n",
       "      <td>0.313504</td>\n",
       "      <td>0.485672</td>\n",
       "      <td>0.360895</td>\n",
       "      <td>0.824741</td>\n",
       "      <td>0.449164</td>\n",
       "    </tr>\n",
       "    <tr>\n",
       "      <th>...</th>\n",
       "      <td>...</td>\n",
       "      <td>...</td>\n",
       "      <td>...</td>\n",
       "      <td>...</td>\n",
       "      <td>...</td>\n",
       "    </tr>\n",
       "    <tr>\n",
       "      <th>295</th>\n",
       "      <td>0.852805</td>\n",
       "      <td>0.563318</td>\n",
       "      <td>0.062231</td>\n",
       "      <td>0.625112</td>\n",
       "      <td>0.794064</td>\n",
       "    </tr>\n",
       "    <tr>\n",
       "      <th>296</th>\n",
       "      <td>0.697809</td>\n",
       "      <td>0.993697</td>\n",
       "      <td>0.117698</td>\n",
       "      <td>0.975995</td>\n",
       "      <td>0.291412</td>\n",
       "    </tr>\n",
       "    <tr>\n",
       "      <th>297</th>\n",
       "      <td>0.420169</td>\n",
       "      <td>0.889806</td>\n",
       "      <td>0.644638</td>\n",
       "      <td>0.781884</td>\n",
       "      <td>0.926229</td>\n",
       "    </tr>\n",
       "    <tr>\n",
       "      <th>298</th>\n",
       "      <td>0.616362</td>\n",
       "      <td>0.534217</td>\n",
       "      <td>0.740966</td>\n",
       "      <td>0.537877</td>\n",
       "      <td>0.295183</td>\n",
       "    </tr>\n",
       "    <tr>\n",
       "      <th>299</th>\n",
       "      <td>0.87606</td>\n",
       "      <td>0.541856</td>\n",
       "      <td>0.506447</td>\n",
       "      <td>0.583977</td>\n",
       "      <td>0.989881</td>\n",
       "    </tr>\n",
       "  </tbody>\n",
       "</table>\n",
       "<p>300 rows × 5 columns</p>\n",
       "</div>"
      ],
      "text/plain": [
       "            0         3         4         1         2\n",
       "0         1.4  0.736245  0.671900  0.977278  0.101693\n",
       "1    0.905124  0.896056  0.825346  0.822610  0.125654\n",
       "2    0.973992  0.233391  0.112078  0.948025  0.394041\n",
       "3    0.982307  0.372739  0.482113  0.451967  0.197520\n",
       "4    0.313504  0.485672  0.360895  0.824741  0.449164\n",
       "..        ...       ...       ...       ...       ...\n",
       "295  0.852805  0.563318  0.062231  0.625112  0.794064\n",
       "296  0.697809  0.993697  0.117698  0.975995  0.291412\n",
       "297  0.420169  0.889806  0.644638  0.781884  0.926229\n",
       "298  0.616362  0.534217  0.740966  0.537877  0.295183\n",
       "299   0.87606  0.541856  0.506447  0.583977  0.989881\n",
       "\n",
       "[300 rows x 5 columns]"
      ]
     },
     "execution_count": 37,
     "metadata": {},
     "output_type": "execute_result"
    }
   ],
   "source": [
    "newDf.sort_values(by=[1], axis=1, ascending=False)"
   ]
  },
  {
   "cell_type": "code",
   "execution_count": 38,
   "id": "76bb2175",
   "metadata": {},
   "outputs": [
    {
     "data": {
      "text/plain": [
       "array([['A', 91, 'Patna'],\n",
       "       ['B', 80, 'Lucknow'],\n",
       "       ['C', 82, 'Kanpur'],\n",
       "       ['D', 88, 'Ranchi']], dtype=object)"
      ]
     },
     "execution_count": 38,
     "metadata": {},
     "output_type": "execute_result"
    }
   ],
   "source": [
    "df.to_numpy()"
   ]
  },
  {
   "cell_type": "code",
   "execution_count": 39,
   "id": "4ec5f051",
   "metadata": {},
   "outputs": [
    {
     "data": {
      "text/plain": [
       "array(['A', 91, 'Patna'], dtype=object)"
      ]
     },
     "execution_count": 39,
     "metadata": {},
     "output_type": "execute_result"
    }
   ],
   "source": [
    "df.to_numpy()[0]"
   ]
  },
  {
   "cell_type": "code",
   "execution_count": 40,
   "id": "6dcd8ae4",
   "metadata": {},
   "outputs": [
    {
     "name": "stdout",
     "output_type": "stream",
     "text": [
      "[['A' 91 'Patna']\n",
      " ['B' 80 'Lucknow']\n",
      " ['C' 82 'Kanpur']\n",
      " ['D' 88 'Ranchi']]\n"
     ]
    }
   ],
   "source": [
    "print(df.to_numpy())"
   ]
  },
  {
   "cell_type": "code",
   "execution_count": null,
   "id": "7fba5fa3",
   "metadata": {},
   "outputs": [],
   "source": []
  }
 ],
 "metadata": {
  "kernelspec": {
   "display_name": "Python 3 (ipykernel)",
   "language": "python",
   "name": "python3"
  },
  "language_info": {
   "codemirror_mode": {
    "name": "ipython",
    "version": 3
   },
   "file_extension": ".py",
   "mimetype": "text/x-python",
   "name": "python",
   "nbconvert_exporter": "python",
   "pygments_lexer": "ipython3",
   "version": "3.10.1"
  }
 },
 "nbformat": 4,
 "nbformat_minor": 5
}
