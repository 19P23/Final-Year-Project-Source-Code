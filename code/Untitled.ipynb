{
 "cells": [
  {
   "cell_type": "code",
   "execution_count": 3,
   "id": "d1dc200d",
   "metadata": {},
   "outputs": [],
   "source": [
    "import load_and_preprocess_data as load\n",
    "import pandas as pd"
   ]
  },
  {
   "cell_type": "code",
   "execution_count": 4,
   "id": "6b64b8d1",
   "metadata": {},
   "outputs": [
    {
     "name": "stdout",
     "output_type": "stream",
     "text": [
      "Pregnancies [0.0, 1.0, 2.0, 4.0, 7.0, 14.0]\n",
      "Glucose [0.0, 95.0, 109.0, 125.0, 146.0, 197.0]\n",
      "BloodPressure [0.0, 60.0, 68.0, 74.0, 82.0, 110.0]\n",
      "SkinThickness [0.0, 18.0, 27.0, 35.0, 60.0]\n",
      "Insulin [0.0, 71.0, 148.0, 680.0]\n",
      "BMI [0.0, 25.9, 30.1, 33.7, 37.7, 57.3]\n",
      "DiabetesPedigreeFunction [0.078, 0.219, 0.302, 0.453, 0.687, 2.288]\n",
      "Age [21.0, 23.0, 27.0, 33.0, 42.0, 70.0]\n"
     ]
    }
   ],
   "source": [
    "FILENAME = '../data/diabetes.csv'\n",
    "\n",
    "data = load.load_data(FILENAME)\n",
    "transformed_data = load.discretize_data(data, 5)"
   ]
  },
  {
   "cell_type": "code",
   "execution_count": 5,
   "id": "33c6aee4",
   "metadata": {},
   "outputs": [
    {
     "name": "stdout",
     "output_type": "stream",
     "text": [
      "Pregnancies 17\n",
      "Glucose 136\n",
      "BloodPressure 47\n",
      "SkinThickness 51\n",
      "Insulin 186\n",
      "BMI 248\n",
      "DiabetesPedigreeFunction 517\n",
      "Age 52\n",
      "Outcome 2\n"
     ]
    }
   ],
   "source": [
    "for col in data.columns:\n",
    "    print(col, len(set(data[col])))"
   ]
  },
  {
   "cell_type": "code",
   "execution_count": 6,
   "id": "0b9965e3",
   "metadata": {},
   "outputs": [
    {
     "name": "stdout",
     "output_type": "stream",
     "text": [
      "Pregnancies 6\n",
      "Glucose 6\n",
      "BloodPressure 6\n",
      "SkinThickness 5\n",
      "Insulin 4\n",
      "BMI 6\n",
      "DiabetesPedigreeFunction 6\n",
      "Age 6\n",
      "Outcome 2\n"
     ]
    }
   ],
   "source": [
    "for col in data.columns:\n",
    "    print(col, len(set(transformed_data[col])))"
   ]
  },
  {
   "cell_type": "code",
   "execution_count": 7,
   "id": "c4932cdc",
   "metadata": {},
   "outputs": [
    {
     "name": "stdout",
     "output_type": "stream",
     "text": [
      "              Pregnancies              Glucose            BloodPressure  \\\n",
      "0     Pregnancies,4.0,7.0  Glucose,146.0,197.0  BloodPressure,68.0,74.0   \n",
      "1     Pregnancies,1.0,2.0     Glucose,0.0,95.0  BloodPressure,60.0,68.0   \n",
      "2    Pregnancies,7.0,14.0  Glucose,146.0,197.0  BloodPressure,60.0,68.0   \n",
      "3     Pregnancies,1.0,2.0     Glucose,0.0,95.0  BloodPressure,60.0,68.0   \n",
      "4     Pregnancies,0.0,1.0  Glucose,125.0,146.0   BloodPressure,0.0,60.0   \n",
      "..                    ...                  ...                      ...   \n",
      "763  Pregnancies,7.0,14.0   Glucose,95.0,109.0  BloodPressure,74.0,82.0   \n",
      "764   Pregnancies,2.0,4.0  Glucose,109.0,125.0  BloodPressure,68.0,74.0   \n",
      "765   Pregnancies,4.0,7.0  Glucose,109.0,125.0  BloodPressure,68.0,74.0   \n",
      "766   Pregnancies,1.0,2.0  Glucose,125.0,146.0  BloodPressure,60.0,68.0   \n",
      "767   Pregnancies,1.0,2.0     Glucose,0.0,95.0  BloodPressure,68.0,74.0   \n",
      "\n",
      "               SkinThickness              Insulin            BMI  \\\n",
      "0    SkinThickness,35.0,60.0     Insulin,0.0,71.0  BMI,30.1,33.7   \n",
      "1    SkinThickness,27.0,35.0     Insulin,0.0,71.0  BMI,25.9,30.1   \n",
      "2     SkinThickness,0.0,18.0     Insulin,0.0,71.0   BMI,0.0,25.9   \n",
      "3    SkinThickness,18.0,27.0   Insulin,71.0,148.0  BMI,25.9,30.1   \n",
      "4    SkinThickness,35.0,60.0  Insulin,148.0,680.0  BMI,37.7,57.3   \n",
      "..                       ...                  ...            ...   \n",
      "763  SkinThickness,35.0,60.0  Insulin,148.0,680.0  BMI,30.1,33.7   \n",
      "764  SkinThickness,27.0,35.0     Insulin,0.0,71.0  BMI,33.7,37.7   \n",
      "765  SkinThickness,18.0,27.0   Insulin,71.0,148.0  BMI,25.9,30.1   \n",
      "766   SkinThickness,0.0,18.0     Insulin,0.0,71.0  BMI,30.1,33.7   \n",
      "767  SkinThickness,27.0,35.0     Insulin,0.0,71.0  BMI,30.1,33.7   \n",
      "\n",
      "                 DiabetesPedigreeFunction            Age  Outcome  \n",
      "0    DiabetesPedigreeFunction,0.453,0.687  Age,42.0,70.0        1  \n",
      "1    DiabetesPedigreeFunction,0.302,0.453  Age,27.0,33.0        0  \n",
      "2    DiabetesPedigreeFunction,0.453,0.687  Age,27.0,33.0        1  \n",
      "3    DiabetesPedigreeFunction,0.078,0.219  Age,21.0,23.0        0  \n",
      "4     DiabetesPedigreeFunction,2.288,2.42  Age,33.0,42.0        1  \n",
      "..                                    ...            ...      ...  \n",
      "763  DiabetesPedigreeFunction,0.078,0.219  Age,42.0,70.0        0  \n",
      "764  DiabetesPedigreeFunction,0.302,0.453  Age,27.0,33.0        0  \n",
      "765  DiabetesPedigreeFunction,0.219,0.302  Age,27.0,33.0        0  \n",
      "766  DiabetesPedigreeFunction,0.302,0.453  Age,42.0,70.0        1  \n",
      "767  DiabetesPedigreeFunction,0.302,0.453  Age,23.0,27.0        0  \n",
      "\n",
      "[768 rows x 9 columns]\n"
     ]
    }
   ],
   "source": [
    "print(transformed_data)"
   ]
  },
  {
   "cell_type": "code",
   "execution_count": null,
   "id": "56550348",
   "metadata": {},
   "outputs": [],
   "source": []
  }
 ],
 "metadata": {
  "kernelspec": {
   "display_name": "Python 3 (ipykernel)",
   "language": "python",
   "name": "python3"
  },
  "language_info": {
   "codemirror_mode": {
    "name": "ipython",
    "version": 3
   },
   "file_extension": ".py",
   "mimetype": "text/x-python",
   "name": "python",
   "nbconvert_exporter": "python",
   "pygments_lexer": "ipython3",
   "version": "3.10.1"
  }
 },
 "nbformat": 4,
 "nbformat_minor": 5
}
